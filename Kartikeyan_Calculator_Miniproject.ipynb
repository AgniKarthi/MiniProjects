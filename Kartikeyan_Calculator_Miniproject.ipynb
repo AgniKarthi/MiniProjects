a=eval(input("Enter first number : "))
b=eval(input("Enter second number : "))
c=input("Select any one operator like +, -, *, /, %, pow :")

if c=="+":
    print("Addition is : ", a+b)
elif c=="-":
    print("Subtraction is : ", a-b)
elif c=="*":
    print("Multiplication is : ", a*b)
elif c=="/":
    print("Division is : ", a//b)
elif c=="%":
    print("Modulo is : ", a%b)
elif c=="pow":
    print("Modulo is : ", a**b)
else:
    print("Incorrect operator")
