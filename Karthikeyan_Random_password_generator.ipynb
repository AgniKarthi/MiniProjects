{"nbformat":4,"nbformat_minor":0,"metadata":{"colab":{"name":"Untitled0.ipynb","provenance":[],"authorship_tag":"ABX9TyOPM/grd65g2JXEXmlMxPOF"},"kernelspec":{"name":"python3","display_name":"Python 3"},"language_info":{"name":"python"}},"cells":[{"cell_type":"markdown","metadata":{"id":"o4agzwPS-tda"},"source":["**Write a program to create a random password generator by using basic python inbuilt functions and datatype.**"]},{"cell_type":"code","metadata":{"id":"CDAWY1fBDe67"},"source":[""],"execution_count":null,"outputs":[]}]}


source:

import random

number = ['0', '1', '2', '3', '4', '5', '6', '7', '8', '9']
lowercase = ['a', 'b', 'c', 'd', 'e', 'f', 'g', 'h', 'i', 'j', 'k', 'm', 'n', 'o', 'p', 'q', 'r', 's', 't', 'u', 'v', 'w', 'x', 'y', 'z']

uppercase = ['A', 'B', 'C', 'D', 'E', 'F', 'G', 'H', 'I', 'J', 'K', 'M', 'N', 'O', 'p', 'Q', 'R', 'S', 'T', 'U', 'V', 'W', 'X', 'Y', 'Z']

special = ['@', '#', '$', '%', '=', ':', '?', '.', '/', '|', '~', '>', '*', '(', ')', '<', '!']

consol = number + lowercase + uppercase + special

#print(consol)
a=[]
len=eval(input("Enter the length of the password: "))
for i in range(len):
    b=random.choice(consol)
    a.append(b)
print(a)



Output:

Enter the length of the password: 10
['Y', 'C', '=', 'j', 'O', 'a', 'N', '|', 'E', 'i']

Enter the length of the password: 4
['*', 'w', 'j', '!']